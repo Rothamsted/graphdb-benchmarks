{
 "cells": [
  {
   "cell_type": "markdown",
   "id": "7dd43715-5aec-4f95-828a-a9f0276b15cc",
   "metadata": {},
   "source": [
    "# Graph Database Benchmark, Query Performance Results"
   ]
  },
  {
   "cell_type": "code",
   "execution_count": 4,
   "id": "8b7e8584-595b-4026-a05a-33e19220c192",
   "metadata": {},
   "outputs": [],
   "source": [
    "queries = {\n",
    "  \"counts\": [\n",
    "    \"cnt\",\n",
    "    \"cntType\",\n",
    "    \"cntRel\",\n",
    "    \"cntRelType\"\n",
    "  ],\n",
    "  \"selects\": [\n",
    "    \"sel\",\n",
    "    \"join\",\n",
    "    \"joinRel\",\n",
    "    \"joinFilter\",\n",
    "    \"joinRe\",\n",
    "    \"joinReif\"\n",
    "  ],\n",
    "  \"unions\": [\n",
    "    \"2union\",\n",
    "    \"2union1Nest\",\n",
    "    \"2union1Nest+\",\n",
    "    \"pway\",\n",
    "    \"exist\",\n",
    "    \"existAg\"\n",
    "  ],\n",
    "  \"aggregation\": [\n",
    "    \"grp\",\n",
    "    \"grpAg\",\n",
    "    \"mulGrpAg\",\n",
    "    \"nestAg\"\n",
    "  ],\n",
    "  \"paths\": [\n",
    "    \"varPathC\",\n",
    "    \"varPath\",\n",
    "    \"shrtSmf\",\n",
    "    \"medSmf\",\n",
    "    \"lngSmf\"\n",
    "  ]\n",
    "}"
   ]
  },
  {
   "cell_type": "code",
   "execution_count": null,
   "id": "201a0782-8805-4a1b-b3cd-258642de5fec",
   "metadata": {},
   "outputs": [],
   "source": []
  }
 ],
 "metadata": {
  "kernelspec": {
   "display_name": "Python 3 (ipykernel)",
   "language": "python",
   "name": "python3"
  },
  "language_info": {
   "codemirror_mode": {
    "name": "ipython",
    "version": 3
   },
   "file_extension": ".py",
   "mimetype": "text/x-python",
   "name": "python",
   "nbconvert_exporter": "python",
   "pygments_lexer": "ipython3",
   "version": "3.11.5"
  }
 },
 "nbformat": 4,
 "nbformat_minor": 5
}
