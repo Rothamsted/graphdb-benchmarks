{
 "cells": [
  {
   "cell_type": "markdown",
   "id": "0f4b8639-8fac-419e-9d8d-a0ee01558721",
   "metadata": {},
   "source": [
    "# Graph Database Benchmark, Database Loading Results"
   ]
  },
  {
   "cell_type": "code",
   "execution_count": 1,
   "id": "5983081f-3fbb-4923-af26-2efdd5980339",
   "metadata": {
    "jupyter": {
     "source_hidden": true
    }
   },
   "outputs": [],
   "source": [
    "# Common initialisation\n",
    "%matplotlib inline\n",
    "import matplotlib.pyplot as plt\n",
    "import pandas as pd\n",
    "import numpy as np"
   ]
  },
  {
   "cell_type": "markdown",
   "id": "3bbb80a5-f9e1-4154-8d09-b69c648c0cec",
   "metadata": {},
   "source": [
    "## Datasets\n",
    "\n",
    "As explained in the README TODO, we tested 3 datasets, of varying sizes, as defined below. For each dataset, we started from an initial RDF/Turtle file, which was generated with the Knetminer RDF Exporter TODO, starting from the knowledge graph XML files (or own OXL schema) that we generate for the Knetminer infrastructure.\n",
    "  "
   ]
  },
  {
   "cell_type": "code",
   "execution_count": 2,
   "id": "641ab939-ef0d-46da-a382-b829e0c8e0b2",
   "metadata": {},
   "outputs": [],
   "source": [
    "datasets = [ \"biopax\", \"ara\", \"poaceae\" ]"
   ]
  },
  {
   "cell_type": "markdown",
   "id": "ec4e3541-6b9a-40b8-a18c-0dc4f33df124",
   "metadata": {},
   "source": [
    "The sizes of these datasets, in RDF triples, are:"
   ]
  },
  {
   "cell_type": "code",
   "execution_count": 3,
   "id": "439c461a-d055-4457-aca0-c380a9567f8e",
   "metadata": {},
   "outputs": [],
   "source": [
    "triples = [ \n",
    "  1894700, # Biopax\n",
    "  21354351, # Ara\n",
    "  96537034 # Poaceae\n",
    "]"
   ]
  },
  {
   "cell_type": "markdown",
   "id": "559f05bf-4d35-4bb1-83ef-6b0d1a39ae52",
   "metadata": {},
   "source": [
    "## Loading Sequence\n",
    "For each database type, and for each dataset, the loading procedure was always the same:\n",
    "1. We used the same server host, with the features: **TODO**\n",
    "1. Before loading, we stopped any other relevant service on the server and started the target database only\n",
    "  1. For each new dataset, we cleaned the DB to its initial, empty configuration, eg, we deleted the DB server's data directory\n",
    "1. In other words, we tested one database at a time and one dataset at a time\n",
    "1. In these conditions, we timed the loading and related operations described below. Tools like rdf2pg tools were run on the same server host. This test things in the minimal resources scenario, with minimal network latency.\n",
    "\n",
    "## Loading into Virtuoso\n",
    "In the case of Virtuoso, we just loaded the input file for each dataset into the triple store. We have used a simple utility script of our own for doing so, which doesn't have any impact on its performance. These are the loading times for each dataset, in seconds:"
   ]
  },
  {
   "cell_type": "code",
   "execution_count": 4,
   "id": "30412443-4902-40cf-a07e-6ba3d0a5e79f",
   "metadata": {},
   "outputs": [],
   "source": [
    "virtuoso_load = [\n",
    "  14.415, # BioPax\n",
    "  153.925, # Ara\n",
    "  681.03 # Poaceae\n",
    "]\n",
    "    "
   ]
  },
  {
   "cell_type": "markdown",
   "id": "6fbd6933-018d-4e2a-b5e3-819df2104da0",
   "metadata": {},
   "source": [
    "Virtuoso automatically indexes the triples it creates (eg, to efficiently match <s, p, *> patterns) and the times above include the time spent into making such indexes (since it is difficult to extract them from the Virtuoso logs).\n"
   ]
  },
  {
   "cell_type": "markdown",
   "id": "41e9a7b1-237c-4355-a3d4-4038dc2a07f0",
   "metadata": {},
   "source": [
    "## Generating the TDB triple store for rdf2pg tools\n",
    "\n",
    "As explained in the documentation, both the rdf2neo and rdf2graphml tools require that input RDF files are first loaded into a local Jena TDB triple store, or that an already existing TDB (eg, one that was populated in a previous run) is given to either tool.\n",
    "\n",
    "For each dataset, we have done the TDB creation step during the rdf2neo execution tool, we have passed the same TDB generated at this step to the rdf2graphml tool. This is motivated by the fact that this preliminary TDB creation is based on exactly the same code for both tools (in general, for any PG endpoint based on the rdf2pg framework).\n",
    "\n",
    "We obtained these loading times for that:"
   ]
  },
  {
   "cell_type": "code",
   "execution_count": 5,
   "id": "e326e7cf-d795-45ac-9c63-80e62f918340",
   "metadata": {},
   "outputs": [],
   "source": [
    "tdb_load = [\n",
    "  24.42, # Biopax\n",
    "  264.974, # Ara\n",
    "  1936.27 # Poaceae\n",
    "]"
   ]
  },
  {
   "attachments": {},
   "cell_type": "markdown",
   "id": "b02589a1-6702-4728-902f-4a3b2defc353",
   "metadata": {},
   "source": [
    "## Property Graph Sizes\n",
    "For sake of completness, rdf2neo and rdf2graphml generated graphs having the following sizes:"
   ]
  },
  {
   "cell_type": "code",
   "execution_count": 6,
   "id": "46749f93-78b9-47b0-a99a-0e9aaa25a06d",
   "metadata": {
    "jupyter": {
     "source_hidden": true
    },
    "scrolled": true
   },
   "outputs": [
    {
     "data": {
      "text/html": [
       "<div>\n",
       "<style scoped>\n",
       "    .dataframe tbody tr th:only-of-type {\n",
       "        vertical-align: middle;\n",
       "    }\n",
       "\n",
       "    .dataframe tbody tr th {\n",
       "        vertical-align: top;\n",
       "    }\n",
       "\n",
       "    .dataframe thead th {\n",
       "        text-align: right;\n",
       "    }\n",
       "</style>\n",
       "<table border=\"1\" class=\"dataframe\">\n",
       "  <thead>\n",
       "    <tr style=\"text-align: right;\">\n",
       "      <th></th>\n",
       "      <th>Nodes</th>\n",
       "      <th>Relations</th>\n",
       "    </tr>\n",
       "  </thead>\n",
       "  <tbody>\n",
       "    <tr>\n",
       "      <th>biopax</th>\n",
       "      <td>173704</td>\n",
       "      <td>527615</td>\n",
       "    </tr>\n",
       "    <tr>\n",
       "      <th>ara</th>\n",
       "      <td>898075</td>\n",
       "      <td>3486599</td>\n",
       "    </tr>\n",
       "    <tr>\n",
       "      <th>poaceae</th>\n",
       "      <td>3381073</td>\n",
       "      <td>13920760</td>\n",
       "    </tr>\n",
       "  </tbody>\n",
       "</table>\n",
       "</div>"
      ],
      "text/plain": [
       "           Nodes  Relations\n",
       "biopax    173704     527615\n",
       "ara       898075    3486599\n",
       "poaceae  3381073   13920760"
      ]
     },
     "execution_count": 6,
     "metadata": {},
     "output_type": "execute_result"
    }
   ],
   "source": [
    "pg_sizes = {\n",
    "  \"Nodes\": [ 173704, 898075, 3381073 ],\n",
    "  \"Relations\": [ 527615, 3486599, 13920760 ]\n",
    "}\n",
    "pd.DataFrame ( index = datasets, data = pg_sizes )"
   ]
  },
  {
   "cell_type": "markdown",
   "id": "69de521a-bae5-4694-93da-29ac7493c1bb",
   "metadata": {},
   "source": [
    "Both the tools generate the same PG graph, just represented in different ways, so the numbers above apply to all of the Neo4j, graphML files and ArcadeDB targets that we tested.\n",
    "\n",
    "## Populating Neo4j\n",
    "The rdf2neo tool first populates a Neo4j from its TDB input (we always started from an empty DB). Then it takes some time to extract the elements that have to be indexed from the TDB (eg, pairs of node/edge names and properties to be indexed for a type, the rdf2pg tools get those elements via SPARQL, see TODO). The total Neo4j loading time is a sum of these two: "
   ]
  },
  {
   "cell_type": "code",
   "execution_count": 7,
   "id": "2567e81c-26b2-43fb-8eab-a616fc0bb7bb",
   "metadata": {
    "jupyter": {
     "source_hidden": true
    }
   },
   "outputs": [
    {
     "data": {
      "text/plain": [
       "biopax       41.432\n",
       "ara         405.000\n",
       "poaceae    1865.000\n",
       "dtype: float64"
      ]
     },
     "execution_count": 7,
     "metadata": {},
     "output_type": "execute_result"
    }
   ],
   "source": [
    "neo_db_load = pd.Series ( [ 38.919, 338, 1445] )\n",
    "neo_idx = pd.Series ( [ 2.513, 67, 420 ] )\n",
    "neo_load = neo_db_load + neo_idx\n",
    "neo_load.index = datasets\n",
    "neo_load"
   ]
  },
  {
   "cell_type": "markdown",
   "id": "497e7abc-76af-4e19-9b2c-b7f64b6419aa",
   "metadata": {},
   "source": [
    "## Populating ArcadeDB\n",
    "In order to populate ArcadeDB with the same PG graph that we used for Neo4j, we first used the rdf2graphml tool to generate a graphML representation of such graph. Here the times to generate the graphML output:"
   ]
  },
  {
   "cell_type": "code",
   "execution_count": 8,
   "id": "4782018b-740b-498b-9947-2d42a16e3da1",
   "metadata": {},
   "outputs": [],
   "source": [
    "# As above, biopax, ara, poaceae\n",
    "graphml = [ 7.178, 331, 1422]"
   ]
  },
  {
   "cell_type": "markdown",
   "id": "ae77c01a-c14a-4c21-a6f9-37902e456654",
   "metadata": {},
   "source": [
    "The graphML file was loaded int ArcadeDB, using Gremlin helpers, obtaining these times:"
   ]
  },
  {
   "cell_type": "code",
   "execution_count": 9,
   "id": "c0972f23-960f-40c6-97c2-bef10aa91482",
   "metadata": {},
   "outputs": [],
   "source": [
    "arcade_load = [ 17.376, 135.547, 649.051 ]"
   ]
  },
  {
   "cell_type": "markdown",
   "id": "6a276294-ea28-4ffc-84fc-5737764bb8f5",
   "metadata": {},
   "source": [
    "The tool runs the same index-related SPARQL queries that is used for rdf2neo, however it uses the results to generate a table of type/property pairs to index:"
   ]
  },
  {
   "cell_type": "code",
   "execution_count": 10,
   "id": "12b4fadc-6622-4cae-8e89-4f1583ca7db0",
   "metadata": {},
   "outputs": [],
   "source": [
    "arcade_tsv = [ 0, 71, 419 ]"
   ]
  },
  {
   "cell_type": "markdown",
   "id": "ad12d7d7-d106-4e3c-b7c0-af99d6f14b8e",
   "metadata": {},
   "source": [
    "This table is used with a Python script TODO, which spawns ArcadeDB SQL instructions to actually produce the indexes in the database. Because that script requires a list of all available node labels and all available edge types, we tracked the times to get them too (despite they're very small):"
   ]
  },
  {
   "cell_type": "code",
   "execution_count": 11,
   "id": "a087fc1e-0bbf-4bfd-95f8-aec4b97321ff",
   "metadata": {},
   "outputs": [],
   "source": [
    "arcade_list_labels = [ 0.081, 0.08, 0.08 ]\n",
    "arcade_list_edge_types = [ 0.098, 0.072, 0.08 ]\n",
    "arcade_idx_sql_gen = [ 0.029, 0.029, 0.029 ]"
   ]
  },
  {
   "cell_type": "markdown",
   "id": "6dc01858-9cae-41bf-a085-2aa28aef877a",
   "metadata": {},
   "source": [
    "Finally, we tracked the time to execute the indexing SQL, and we got a total for indexing:"
   ]
  },
  {
   "cell_type": "code",
   "execution_count": 12,
   "id": "83e04f7f-32a3-4364-8657-bb645cc87f33",
   "metadata": {
    "jupyter": {
     "source_hidden": true
    }
   },
   "outputs": [
    {
     "data": {
      "text/plain": [
       "0      6.026\n",
       "1    126.847\n",
       "2    454.189\n",
       "dtype: float64"
      ]
     },
     "execution_count": 12,
     "metadata": {},
     "output_type": "execute_result"
    }
   ],
   "source": [
    "arcade_idx_sql_exec = [5.818, 55.666, 35]\n",
    "\n",
    "arcade_idx = pd.Series ( np.zeros ( shape = len ( datasets ) ) )\n",
    "for a in [ arcade_tsv, arcade_list_labels, arcade_list_edge_types, arcade_idx_sql_gen, arcade_idx_sql_exec ]:\n",
    "  arcade_idx = arcade_idx + pd.Series ( a )\n",
    "arcade_idx"
   ]
  },
  {
   "cell_type": "markdown",
   "id": "980547bf-39e4-44ca-a41b-5b9275b6182c",
   "metadata": {},
   "source": [
    "We consider the total loading times the sum of database population times and all indexing-related times:"
   ]
  },
  {
   "cell_type": "code",
   "execution_count": 13,
   "id": "334fbef2-4224-41f1-8bd1-8f99af9ef07a",
   "metadata": {
    "jupyter": {
     "source_hidden": true
    }
   },
   "outputs": [
    {
     "data": {
      "text/plain": [
       "biopax       23.402\n",
       "ara         262.394\n",
       "poaceae    1103.240\n",
       "dtype: float64"
      ]
     },
     "execution_count": 13,
     "metadata": {},
     "output_type": "execute_result"
    }
   ],
   "source": [
    "arcade_loading = pd.Series ( arcade_load ) + arcade_idx\n",
    "arcade_loading.index = datasets\n",
    "arcade_loading"
   ]
  },
  {
   "cell_type": "markdown",
   "id": "2ee5cbac-2e8a-4a5a-9ae1-2dbb3d14f2a0",
   "metadata": {},
   "source": [
    "Note that we represent the graphML generation separately, since summing it isn't strictly related to ArcadeDB itself and adding this time to the DB population time wouldn't yield values that are comparable with the corresponding loading times for Neo4j."
   ]
  },
  {
   "cell_type": "markdown",
   "id": "d4bdaf33-7153-43ee-b7c3-76397d8b7261",
   "metadata": {},
   "source": [
    "## Comparing Loading Times\n",
    "Let's put together some of the loading times above and compare them:"
   ]
  },
  {
   "cell_type": "code",
   "execution_count": 14,
   "id": "1915d1f0-cd34-461c-9a85-797f5429a717",
   "metadata": {},
   "outputs": [
    {
     "data": {
      "text/html": [
       "<div>\n",
       "<style scoped>\n",
       "    .dataframe tbody tr th:only-of-type {\n",
       "        vertical-align: middle;\n",
       "    }\n",
       "\n",
       "    .dataframe tbody tr th {\n",
       "        vertical-align: top;\n",
       "    }\n",
       "\n",
       "    .dataframe thead th {\n",
       "        text-align: right;\n",
       "    }\n",
       "</style>\n",
       "<table border=\"1\" class=\"dataframe\">\n",
       "  <thead>\n",
       "    <tr style=\"text-align: right;\">\n",
       "      <th></th>\n",
       "      <th>Triples</th>\n",
       "      <th>Virtuoso</th>\n",
       "      <th>TDB</th>\n",
       "      <th>Neo4j</th>\n",
       "      <th>graphML</th>\n",
       "      <th>ArcadeDB</th>\n",
       "    </tr>\n",
       "    <tr>\n",
       "      <th>Dataset</th>\n",
       "      <th></th>\n",
       "      <th></th>\n",
       "      <th></th>\n",
       "      <th></th>\n",
       "      <th></th>\n",
       "      <th></th>\n",
       "    </tr>\n",
       "  </thead>\n",
       "  <tbody>\n",
       "    <tr>\n",
       "      <th>biopax</th>\n",
       "      <td>1894700</td>\n",
       "      <td>14.415</td>\n",
       "      <td>24.420</td>\n",
       "      <td>41.432</td>\n",
       "      <td>7.178</td>\n",
       "      <td>23.402</td>\n",
       "    </tr>\n",
       "    <tr>\n",
       "      <th>ara</th>\n",
       "      <td>21354351</td>\n",
       "      <td>153.925</td>\n",
       "      <td>264.974</td>\n",
       "      <td>405.000</td>\n",
       "      <td>331.000</td>\n",
       "      <td>262.394</td>\n",
       "    </tr>\n",
       "    <tr>\n",
       "      <th>poaceae</th>\n",
       "      <td>96537034</td>\n",
       "      <td>681.030</td>\n",
       "      <td>1936.270</td>\n",
       "      <td>1865.000</td>\n",
       "      <td>1422.000</td>\n",
       "      <td>1103.240</td>\n",
       "    </tr>\n",
       "  </tbody>\n",
       "</table>\n",
       "</div>"
      ],
      "text/plain": [
       "          Triples  Virtuoso       TDB     Neo4j   graphML  ArcadeDB\n",
       "Dataset                                                            \n",
       "biopax    1894700    14.415    24.420    41.432     7.178    23.402\n",
       "ara      21354351   153.925   264.974   405.000   331.000   262.394\n",
       "poaceae  96537034   681.030  1936.270  1865.000  1422.000  1103.240"
      ]
     },
     "execution_count": 14,
     "metadata": {},
     "output_type": "execute_result"
    }
   ],
   "source": [
    "load_stats = {\n",
    "  \"Triples\": triples,\n",
    "  \"Virtuoso\": virtuoso_load,\n",
    "  \"TDB\": tdb_load,\n",
    "  \"Neo4j\": neo_load,\n",
    "  \"graphML\": graphml,\n",
    "  \"ArcadeDB\": arcade_loading\n",
    "}\n",
    "load_stats = pd.DataFrame ( data = load_stats, index = datasets )\n",
    "load_stats.index.name = \"Dataset\"\n",
    "load_stats"
   ]
  },
  {
   "cell_type": "code",
   "execution_count": 15,
   "id": "64f1bef2-2d13-44e3-b387-9a9ccaf27970",
   "metadata": {},
   "outputs": [
    {
     "data": {
      "image/png": "[encoded data removed]",
      "text/plain": [
       "<Figure size 1300x600 with 1 Axes>"
      ]
     },
     "metadata": {},
     "output_type": "display_data"
    }
   ],
   "source": [
    "g_load_stats = load_stats.copy ()\n",
    "g_load_stats [ \"Triples\" ] = load_stats [ \"Triples\" ] / 1E6 # Show thousands\n",
    "mrk = \"o\"\n",
    "\n",
    "ax = g_load_stats.plot ( \n",
    "  x = \"Triples\", y = \"Virtuoso\", label = \"Virtuoso\", color = \"DarkBlue\", marker = mrk )\n",
    "ax = g_load_stats.plot ( \n",
    "  x = 'Triples', y = \"Neo4j\", label = \"Neo4j\", color = \"DarkGreen\", marker = mrk, ax = ax\n",
    ");\n",
    "ax = g_load_stats.plot ( \n",
    "  x = 'Triples', y = \"ArcadeDB\", label = \"ArcadeDB\", color = \"DarkRed\", marker = mrk, ax = ax, legend = True\n",
    ");\n",
    "ax = g_load_stats.plot ( \n",
    "  x = 'Triples', y = \"TDB\", label = \"TDB\", color = \"DarkOrange\", ax = ax, marker = mrk\n",
    ");\n",
    "ax = g_load_stats.plot ( \n",
    "  x = 'Triples', y = \"graphML\", label = \"GraphML\", color = \"Black\", marker = mrk, ax = ax\n",
    ");\n",
    "\n",
    "\n",
    "ax.set_xlabel ( \"Triples (M)\" )\n",
    "ax.set_ylabel ( \"Loading time (s)\" )\n",
    "ax.legend ( loc = \"upper center\", ncol=len ( load_stats.columns ) );\n",
    "\n",
    "# Datapoint labels\n",
    "for ids in range ( len ( datasets ) ):\n",
    "  x = g_load_stats [ \"Triples\" ].iloc [ ids ]\n",
    "  y = -60\n",
    "  l = datasets [ ids ]\n",
    "  ax.text ( x, y, l )\n",
    "# Fit the last label\n",
    "xmax = g_load_stats [ \"Triples\" ].iloc [ -1 ]\n",
    "ax.set_xlim ( xmax = xmax * 1.1 )\n",
    "\n",
    "# Give it a good size\n",
    "ax.figure.set_size_inches ( 13, 6 )\n",
    "\n",
    "# And save!\n",
    "img_fmt = \"svg\"\n",
    "ax.figure.savefig ( \"loading-results.\" + img_fmt, format = img_fmt )"
   ]
  },
  {
   "cell_type": "markdown",
   "id": "70e113dd-4588-48b6-b2d1-2fa6c762d8c0",
   "metadata": {},
   "source": [
    "Some conclusion notes:\n",
    "* Everything scales linearly\n",
    "* Loading times are reasonable (about 30min for 100M triples)\n",
    "* PG conversion obviusly has its own overhead, due to executing SPARQL mapping queries (against TDB) and further steps to create the target PG\n",
    "* Neo4j and ArcadeDB have not too much different loading times. ArcadeDB loading could be faster with a specific loader that talks to the DB directly (without the graphML step). However, this isn't within the scope of this work."
   ]
  },
  {
   "cell_type": "code",
   "execution_count": null,
   "id": "704221a9-77c9-4a16-b85c-991f49cd2538",
   "metadata": {},
   "outputs": [],
   "source": []
  }
 ],
 "metadata": {
  "kernelspec": {
   "display_name": "Python 3 (ipykernel)",
   "language": "python",
   "name": "python3"
  },
  "language_info": {
   "codemirror_mode": {
    "name": "ipython",
    "version": 3
   },
   "file_extension": ".py",
   "mimetype": "text/x-python",
   "name": "python",
   "nbconvert_exporter": "python",
   "pygments_lexer": "ipython3",
   "version": "3.11.5"
  }
 },
 "nbformat": 4,
 "nbformat_minor": 5
}
